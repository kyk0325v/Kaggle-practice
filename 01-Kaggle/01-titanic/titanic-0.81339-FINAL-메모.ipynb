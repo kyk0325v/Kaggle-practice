{
 "cells": [
  {
   "cell_type": "code",
   "execution_count": 13,
   "id": "4f2c2f92",
   "metadata": {},
   "outputs": [],
   "source": [
    "import pandas as pd\n",
    "import matplotlib.pyplot as plt\n",
    "import seaborn as sns\n",
    "import warnings\n",
    "\n",
    "%matplotlib inline\n",
    "warnings.filterwarnings('ignore')\n",
    "plt.rcParams['figure.figsize'] = (18, 8)"
   ]
  },
  {
   "cell_type": "code",
   "execution_count": 14,
   "id": "c0f99369",
   "metadata": {
    "scrolled": true
   },
   "outputs": [],
   "source": [
    "train = pd.read_csv('train_data.csv')\n",
    "test = pd.read_csv('test_data.csv')\n",
    "gender_submisstion = pd.read_csv('gender_submission.csv')"
   ]
  },
  {
   "cell_type": "code",
   "execution_count": 15,
   "id": "f052a9c4",
   "metadata": {
    "scrolled": false
   },
   "outputs": [
    {
     "name": "stdout",
     "output_type": "stream",
     "text": [
      "<class 'pandas.core.frame.DataFrame'>\n",
      "RangeIndex: 792 entries, 0 to 791\n",
      "Data columns (total 17 columns):\n",
      " #   Column       Non-Null Count  Dtype  \n",
      "---  ------       --------------  -----  \n",
      " 0   Unnamed: 0   792 non-null    int64  \n",
      " 1   PassengerId  792 non-null    int64  \n",
      " 2   Survived     792 non-null    int64  \n",
      " 3   Sex          792 non-null    int64  \n",
      " 4   Age          792 non-null    float64\n",
      " 5   Fare         792 non-null    float64\n",
      " 6   Pclass_1     792 non-null    int64  \n",
      " 7   Pclass_2     792 non-null    int64  \n",
      " 8   Pclass_3     792 non-null    int64  \n",
      " 9   Family_size  792 non-null    float64\n",
      " 10  Title_1      792 non-null    int64  \n",
      " 11  Title_2      792 non-null    int64  \n",
      " 12  Title_3      792 non-null    int64  \n",
      " 13  Title_4      792 non-null    int64  \n",
      " 14  Emb_1        792 non-null    int64  \n",
      " 15  Emb_2        792 non-null    int64  \n",
      " 16  Emb_3        792 non-null    int64  \n",
      "dtypes: float64(3), int64(14)\n",
      "memory usage: 105.3 KB\n"
     ]
    }
   ],
   "source": [
    "train.info()"
   ]
  },
  {
   "cell_type": "code",
   "execution_count": null,
   "id": "8cf9e105",
   "metadata": {},
   "outputs": [],
   "source": []
  }
 ],
 "metadata": {
  "kernelspec": {
   "display_name": "Python 3",
   "language": "python",
   "name": "python3"
  },
  "language_info": {
   "codemirror_mode": {
    "name": "ipython",
    "version": 3
   },
   "file_extension": ".py",
   "mimetype": "text/x-python",
   "name": "python",
   "nbconvert_exporter": "python",
   "pygments_lexer": "ipython3",
   "version": "3.8.8"
  }
 },
 "nbformat": 4,
 "nbformat_minor": 5
}
