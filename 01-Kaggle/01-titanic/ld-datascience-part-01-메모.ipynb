{
 "cells": [
  {
   "cell_type": "markdown",
   "id": "56928c2c",
   "metadata": {},
   "source": [
    "### Part1"
   ]
  },
  {
   "cell_type": "markdown",
   "id": "56e6422c",
   "metadata": {},
   "source": [
    "## Pandas 데이터 분석 모듈 불러오기"
   ]
  },
  {
   "cell_type": "markdown",
   "id": "be8711a7",
   "metadata": {},
   "source": [
    "pandas는 무료 오픈소스로 공개된 라이브러리입니다.\n",
    "\n",
    "**라이브러리**는 보통 다양한 기능들을 손쉽게 사용할 수 있도록 만들어진 하나의 목적을 가진 기능들의 집합쳉입니다.\n",
    "pandas는 **대표적인 데이터 분석 라이브러리** 입니다."
   ]
  },
  {
   "cell_type": "code",
   "execution_count": 3,
   "id": "0771887e",
   "metadata": {},
   "outputs": [],
   "source": [
    "# tip 1. 모듈(=라이브러리)을 불러올 때는 import 라는 구문 다음에 라이브러리의 이름을 적습니다.\n",
    "# tip 2. as pd라고 하는 부분은 별칭을 지어주는 것입니다. pandas라는 라이브러리를 난 앞으로 'pd'라고 부를 꺼야 입니다.\n",
    "import pandas as pd"
   ]
  },
  {
   "cell_type": "code",
   "execution_count": 4,
   "id": "0478d4f6",
   "metadata": {},
   "outputs": [],
   "source": [
    "pd.set_option('display.float_format', lambda x: '%.1f' % x)"
   ]
  },
  {
   "cell_type": "markdown",
   "id": "b6c5ed3e",
   "metadata": {},
   "source": [
    "## 데이터 불러오기\n",
    "\n",
    "데이터 분석의 첫 걸음인 모듈(=라이브러리)을 불러왔다면, 이제 데이터를 불러올 차례입니다!\n",
    "\n",
    "CSV(Comma-seperated values)는 데이터 분석에서 굉장히 많이 사용되는 파일 확장자입니다.\n",
    "\n",
    "말그대로 Comma(쉼표)로 분리된 데이터이며, excel포맷으로 저장하는 것보다 훨씬 빠르게 데이터를 불러올 수 있기 때문에 csv 포맷을 많이 사용하여 데이터를 저장하거나 불러올 수 기능이 있습니다.\n",
    "\n",
    "아래에는 편의상 .csv로 된 파일을 다운로드 url을 통해 제공하고 있습니다.\n",
    "아래와 같이 다운로드 가능한 .csv 파일형식의 url을 알고 있다면, 아래와 같이 바로 읽어 들여올 수 있습니다."
   ]
  },
  {
   "cell_type": "code",
   "execution_count": 5,
   "id": "e7515b28",
   "metadata": {},
   "outputs": [],
   "source": [
    "data = pd.read_csv('http://bit.ly/ld-sample-idol', index_col='순위')"
   ]
  },
  {
   "cell_type": "code",
   "execution_count": 6,
   "id": "cf96f6ca",
   "metadata": {},
   "outputs": [
    {
     "data": {
      "text/html": [
       "<div>\n",
       "<style scoped>\n",
       "    .dataframe tbody tr th:only-of-type {\n",
       "        vertical-align: middle;\n",
       "    }\n",
       "\n",
       "    .dataframe tbody tr th {\n",
       "        vertical-align: top;\n",
       "    }\n",
       "\n",
       "    .dataframe thead th {\n",
       "        text-align: right;\n",
       "    }\n",
       "</style>\n",
       "<table border=\"1\" class=\"dataframe\">\n",
       "  <thead>\n",
       "    <tr style=\"text-align: right;\">\n",
       "      <th></th>\n",
       "      <th>이름</th>\n",
       "      <th>그룹</th>\n",
       "      <th>소속사</th>\n",
       "      <th>성별</th>\n",
       "      <th>생년월일</th>\n",
       "      <th>키</th>\n",
       "      <th>혈액형</th>\n",
       "      <th>브랜드평판지수</th>\n",
       "    </tr>\n",
       "    <tr>\n",
       "      <th>순위</th>\n",
       "      <th></th>\n",
       "      <th></th>\n",
       "      <th></th>\n",
       "      <th></th>\n",
       "      <th></th>\n",
       "      <th></th>\n",
       "      <th></th>\n",
       "      <th></th>\n",
       "    </tr>\n",
       "  </thead>\n",
       "  <tbody>\n",
       "    <tr>\n",
       "      <th>1</th>\n",
       "      <td>지민</td>\n",
       "      <td>방탄소년단</td>\n",
       "      <td>빅히트</td>\n",
       "      <td>남자</td>\n",
       "      <td>1995-10-13</td>\n",
       "      <td>173.6</td>\n",
       "      <td>A</td>\n",
       "      <td>10523260</td>\n",
       "    </tr>\n",
       "    <tr>\n",
       "      <th>2</th>\n",
       "      <td>지드래곤</td>\n",
       "      <td>빅뱅</td>\n",
       "      <td>YG</td>\n",
       "      <td>남자</td>\n",
       "      <td>1988-08-18</td>\n",
       "      <td>177.0</td>\n",
       "      <td>A</td>\n",
       "      <td>9916947</td>\n",
       "    </tr>\n",
       "    <tr>\n",
       "      <th>3</th>\n",
       "      <td>강다니엘</td>\n",
       "      <td>NaN</td>\n",
       "      <td>커넥트</td>\n",
       "      <td>남자</td>\n",
       "      <td>1996-12-10</td>\n",
       "      <td>180.0</td>\n",
       "      <td>A</td>\n",
       "      <td>8273745</td>\n",
       "    </tr>\n",
       "    <tr>\n",
       "      <th>4</th>\n",
       "      <td>뷔</td>\n",
       "      <td>방탄소년단</td>\n",
       "      <td>빅히트</td>\n",
       "      <td>남자</td>\n",
       "      <td>1995-12-30</td>\n",
       "      <td>178.0</td>\n",
       "      <td>AB</td>\n",
       "      <td>8073501</td>\n",
       "    </tr>\n",
       "    <tr>\n",
       "      <th>5</th>\n",
       "      <td>화사</td>\n",
       "      <td>마마무</td>\n",
       "      <td>RBW</td>\n",
       "      <td>여자</td>\n",
       "      <td>1995-07-23</td>\n",
       "      <td>162.0</td>\n",
       "      <td>A</td>\n",
       "      <td>7650928</td>\n",
       "    </tr>\n",
       "  </tbody>\n",
       "</table>\n",
       "</div>"
      ],
      "text/plain": [
       "      이름     그룹  소속사  성별        생년월일     키 혈액형   브랜드평판지수\n",
       "순위                                                      \n",
       "1     지민  방탄소년단  빅히트  남자  1995-10-13 173.6   A  10523260\n",
       "2   지드래곤     빅뱅   YG  남자  1988-08-18 177.0   A   9916947\n",
       "3   강다니엘    NaN  커넥트  남자  1996-12-10 180.0   A   8273745\n",
       "4      뷔  방탄소년단  빅히트  남자  1995-12-30 178.0  AB   8073501\n",
       "5     화사    마마무  RBW  여자  1995-07-23 162.0   A   7650928"
      ]
     },
     "execution_count": 6,
     "metadata": {},
     "output_type": "execute_result"
    }
   ],
   "source": [
    "data.head()"
   ]
  },
  {
   "cell_type": "markdown",
   "id": "86d1d72a",
   "metadata": {},
   "source": [
    "## 데이터 접근하기\n",
    "\n",
    "위의 표와 같은 형태를 pandas에서는 **dataframe**이라고 부릅니다.\n",
    "<br>2차원 데이터로 표현되어 잇고, 마치 엑셀처럼 생겼기 때문에 이질감이 없습니다.\n",
    "\n",
    "'순위','이름', '그룹'...가로 방향을 우리는 **columm(열)**이라고 합니다.\n",
    "<br>그리고 세로 방향을 우리는 **row(행)**이라고 합니다."
   ]
  },
  {
   "cell_type": "markdown",
   "id": "b416fbf3",
   "metadata": {},
   "source": [
    "<hr>dataframe은 반드시 row와 column으로 구성된 2차원(2d)으로 구성된 데이터 셋 (데이터 묶음)입낟.\n",
    "\n",
    "너무 어렵게 생각할 필요 없이 그냥 엑셀을 떠올리시면 됩니다. (엑셀 = dataframe)"
   ]
  },
  {
   "cell_type": "markdown",
   "id": "7108b023",
   "metadata": {},
   "source": [
    "<br>\n",
    "엑셀에서 행 전체 선택, 열 전체 선택, 혹은 모두 선택 가능하잖아요?\n",
    "\n",
    "dataframe도 당연히 됩니다! 하지만, 조금은 불편할 수 있어요. 왜냐하면 마우스로 선택은 불가능 하거든요.\n",
    "<br>하지만, 조금만 연습하고 익숙해지면, 마우스로 선택하는 것보다 훨씬 편리하고 빠르게 하게 됩니다^^"
   ]
  },
  {
   "cell_type": "markdown",
   "id": "848ae267",
   "metadata": {},
   "source": [
    "## column 선택"
   ]
  },
  {
   "cell_type": "markdown",
   "id": "cdeabb0f",
   "metadata": {},
   "source": [
    "아래의 예시처럼 홑따옴표\"혹은 쌍따옴표 \"\"안에 column명을 넣어주면 됩니다."
   ]
  },
  {
   "cell_type": "code",
   "execution_count": 7,
   "id": "090a95a4",
   "metadata": {},
   "outputs": [
    {
     "data": {
      "text/plain": [
       "순위\n",
       "1       지민\n",
       "2     지드래곤\n",
       "3     강다니엘\n",
       "4        뷔\n",
       "5       화사\n",
       "6       정국\n",
       "7       민현\n",
       "8       소연\n",
       "9        진\n",
       "10     하성운\n",
       "11      태연\n",
       "12     차은우\n",
       "13      백호\n",
       "14      JR\n",
       "15      슈가\n",
       "Name: 이름, dtype: object"
      ]
     },
     "execution_count": 7,
     "metadata": {},
     "output_type": "execute_result"
    }
   ],
   "source": [
    "data['이름']"
   ]
  },
  {
   "cell_type": "code",
   "execution_count": 8,
   "id": "1d3a8926",
   "metadata": {},
   "outputs": [
    {
     "data": {
      "text/plain": [
       "순위\n",
       "1       지민\n",
       "2     지드래곤\n",
       "3     강다니엘\n",
       "4        뷔\n",
       "5       화사\n",
       "6       정국\n",
       "7       민현\n",
       "8       소연\n",
       "9        진\n",
       "10     하성운\n",
       "11      태연\n",
       "12     차은우\n",
       "13      백호\n",
       "14      JR\n",
       "15      슈가\n",
       "Name: 이름, dtype: object"
      ]
     },
     "execution_count": 8,
     "metadata": {},
     "output_type": "execute_result"
    }
   ],
   "source": [
    "data[\"이름\"]"
   ]
  },
  {
   "cell_type": "markdown",
   "id": "14758cde",
   "metadata": {},
   "source": [
    "dot(점)을 찍고 불러올 수 있습니다만, 별로 추천드리고 싶은 방식은 아닙니다.\n",
    "<br>가독성이 떨어지며, 트렌드에 맞춰가야 나중에 다른 사람의 코드를 봤을 때도 이질감이 없을 수 있습니다."
   ]
  },
  {
   "cell_type": "code",
   "execution_count": 9,
   "id": "d9544f58",
   "metadata": {},
   "outputs": [
    {
     "data": {
      "text/plain": [
       "순위\n",
       "1       지민\n",
       "2     지드래곤\n",
       "3     강다니엘\n",
       "4        뷔\n",
       "5       화사\n",
       "6       정국\n",
       "7       민현\n",
       "8       소연\n",
       "9        진\n",
       "10     하성운\n",
       "11      태연\n",
       "12     차은우\n",
       "13      백호\n",
       "14      JR\n",
       "15      슈가\n",
       "Name: 이름, dtype: object"
      ]
     },
     "execution_count": 9,
     "metadata": {},
     "output_type": "execute_result"
    }
   ],
   "source": [
    "data.이름"
   ]
  },
  {
   "cell_type": "markdown",
   "id": "e178aeb7",
   "metadata": {},
   "source": [
    "## row 선택"
   ]
  },
  {
   "cell_type": "markdown",
   "id": "2e3c733d",
   "metadata": {},
   "source": [
    "iloc이라는 함수를 통해 한마디로 row의 숫자를 지정하거나 범위로 지정할 수 도 있습니다.\n",
    "\n",
    "(이 부분은 나중에 조건문 필터링 부분에서 어차피 한번 더 다뤄질 내용입니다)"
   ]
  },
  {
   "cell_type": "code",
   "execution_count": 12,
   "id": "7954badf",
   "metadata": {},
   "outputs": [
    {
     "data": {
      "text/plain": [
       "이름                  뷔\n",
       "그룹              방탄소년단\n",
       "소속사               빅히트\n",
       "성별                 남자\n",
       "생년월일       1995-12-30\n",
       "키               178.0\n",
       "혈액형                AB\n",
       "브랜드평판지수       8073501\n",
       "Name: 4, dtype: object"
      ]
     },
     "execution_count": 12,
     "metadata": {},
     "output_type": "execute_result"
    }
   ],
   "source": [
    "# 1개의 row 선택\n",
    "data.iloc[3]"
   ]
  },
  {
   "cell_type": "code",
   "execution_count": 13,
   "id": "20104260",
   "metadata": {},
   "outputs": [
    {
     "data": {
      "text/html": [
       "<div>\n",
       "<style scoped>\n",
       "    .dataframe tbody tr th:only-of-type {\n",
       "        vertical-align: middle;\n",
       "    }\n",
       "\n",
       "    .dataframe tbody tr th {\n",
       "        vertical-align: top;\n",
       "    }\n",
       "\n",
       "    .dataframe thead th {\n",
       "        text-align: right;\n",
       "    }\n",
       "</style>\n",
       "<table border=\"1\" class=\"dataframe\">\n",
       "  <thead>\n",
       "    <tr style=\"text-align: right;\">\n",
       "      <th></th>\n",
       "      <th>이름</th>\n",
       "      <th>그룹</th>\n",
       "      <th>소속사</th>\n",
       "      <th>성별</th>\n",
       "      <th>생년월일</th>\n",
       "      <th>키</th>\n",
       "      <th>혈액형</th>\n",
       "      <th>브랜드평판지수</th>\n",
       "    </tr>\n",
       "    <tr>\n",
       "      <th>순위</th>\n",
       "      <th></th>\n",
       "      <th></th>\n",
       "      <th></th>\n",
       "      <th></th>\n",
       "      <th></th>\n",
       "      <th></th>\n",
       "      <th></th>\n",
       "      <th></th>\n",
       "    </tr>\n",
       "  </thead>\n",
       "  <tbody>\n",
       "    <tr>\n",
       "      <th>4</th>\n",
       "      <td>뷔</td>\n",
       "      <td>방탄소년단</td>\n",
       "      <td>빅히트</td>\n",
       "      <td>남자</td>\n",
       "      <td>1995-12-30</td>\n",
       "      <td>178.0</td>\n",
       "      <td>AB</td>\n",
       "      <td>8073501</td>\n",
       "    </tr>\n",
       "    <tr>\n",
       "      <th>5</th>\n",
       "      <td>화사</td>\n",
       "      <td>마마무</td>\n",
       "      <td>RBW</td>\n",
       "      <td>여자</td>\n",
       "      <td>1995-07-23</td>\n",
       "      <td>162.0</td>\n",
       "      <td>A</td>\n",
       "      <td>7650928</td>\n",
       "    </tr>\n",
       "    <tr>\n",
       "      <th>6</th>\n",
       "      <td>정국</td>\n",
       "      <td>방탄소년단</td>\n",
       "      <td>빅히트</td>\n",
       "      <td>남자</td>\n",
       "      <td>1997-09-01</td>\n",
       "      <td>178.0</td>\n",
       "      <td>A</td>\n",
       "      <td>5208335</td>\n",
       "    </tr>\n",
       "    <tr>\n",
       "      <th>7</th>\n",
       "      <td>민현</td>\n",
       "      <td>뉴이스트</td>\n",
       "      <td>플레디스</td>\n",
       "      <td>남자</td>\n",
       "      <td>1995-08-09</td>\n",
       "      <td>182.0</td>\n",
       "      <td>O</td>\n",
       "      <td>4989792</td>\n",
       "    </tr>\n",
       "  </tbody>\n",
       "</table>\n",
       "</div>"
      ],
      "text/plain": [
       "    이름     그룹   소속사  성별        생년월일     키 혈액형  브랜드평판지수\n",
       "순위                                                    \n",
       "4    뷔  방탄소년단   빅히트  남자  1995-12-30 178.0  AB  8073501\n",
       "5   화사    마마무   RBW  여자  1995-07-23 162.0   A  7650928\n",
       "6   정국  방탄소년단   빅히트  남자  1997-09-01 178.0   A  5208335\n",
       "7   민현   뉴이스트  플레디스  남자  1995-08-09 182.0   O  4989792"
      ]
     },
     "execution_count": 13,
     "metadata": {},
     "output_type": "execute_result"
    }
   ],
   "source": [
    "# 범위의 row 선택\n",
    "data.iloc[3:7]"
   ]
  },
  {
   "cell_type": "code",
   "execution_count": 14,
   "id": "ca460ccb",
   "metadata": {},
   "outputs": [
    {
     "data": {
      "text/html": [
       "<div>\n",
       "<style scoped>\n",
       "    .dataframe tbody tr th:only-of-type {\n",
       "        vertical-align: middle;\n",
       "    }\n",
       "\n",
       "    .dataframe tbody tr th {\n",
       "        vertical-align: top;\n",
       "    }\n",
       "\n",
       "    .dataframe thead th {\n",
       "        text-align: right;\n",
       "    }\n",
       "</style>\n",
       "<table border=\"1\" class=\"dataframe\">\n",
       "  <thead>\n",
       "    <tr style=\"text-align: right;\">\n",
       "      <th></th>\n",
       "      <th>이름</th>\n",
       "      <th>그룹</th>\n",
       "      <th>소속사</th>\n",
       "      <th>성별</th>\n",
       "      <th>생년월일</th>\n",
       "      <th>키</th>\n",
       "      <th>혈액형</th>\n",
       "      <th>브랜드평판지수</th>\n",
       "    </tr>\n",
       "    <tr>\n",
       "      <th>순위</th>\n",
       "      <th></th>\n",
       "      <th></th>\n",
       "      <th></th>\n",
       "      <th></th>\n",
       "      <th></th>\n",
       "      <th></th>\n",
       "      <th></th>\n",
       "      <th></th>\n",
       "    </tr>\n",
       "  </thead>\n",
       "  <tbody>\n",
       "    <tr>\n",
       "      <th>2</th>\n",
       "      <td>지드래곤</td>\n",
       "      <td>빅뱅</td>\n",
       "      <td>YG</td>\n",
       "      <td>남자</td>\n",
       "      <td>1988-08-18</td>\n",
       "      <td>177.0</td>\n",
       "      <td>A</td>\n",
       "      <td>9916947</td>\n",
       "    </tr>\n",
       "    <tr>\n",
       "      <th>4</th>\n",
       "      <td>뷔</td>\n",
       "      <td>방탄소년단</td>\n",
       "      <td>빅히트</td>\n",
       "      <td>남자</td>\n",
       "      <td>1995-12-30</td>\n",
       "      <td>178.0</td>\n",
       "      <td>AB</td>\n",
       "      <td>8073501</td>\n",
       "    </tr>\n",
       "    <tr>\n",
       "      <th>6</th>\n",
       "      <td>정국</td>\n",
       "      <td>방탄소년단</td>\n",
       "      <td>빅히트</td>\n",
       "      <td>남자</td>\n",
       "      <td>1997-09-01</td>\n",
       "      <td>178.0</td>\n",
       "      <td>A</td>\n",
       "      <td>5208335</td>\n",
       "    </tr>\n",
       "    <tr>\n",
       "      <th>8</th>\n",
       "      <td>소연</td>\n",
       "      <td>아이들</td>\n",
       "      <td>큐브</td>\n",
       "      <td>여자</td>\n",
       "      <td>1998-08-26</td>\n",
       "      <td>157.0</td>\n",
       "      <td>B</td>\n",
       "      <td>4668615</td>\n",
       "    </tr>\n",
       "    <tr>\n",
       "      <th>10</th>\n",
       "      <td>하성운</td>\n",
       "      <td>핫샷</td>\n",
       "      <td>스타크루이엔티</td>\n",
       "      <td>남자</td>\n",
       "      <td>1994-03-22</td>\n",
       "      <td>167.0</td>\n",
       "      <td>A</td>\n",
       "      <td>4036489</td>\n",
       "    </tr>\n",
       "  </tbody>\n",
       "</table>\n",
       "</div>"
      ],
      "text/plain": [
       "      이름     그룹      소속사  성별        생년월일     키 혈액형  브랜드평판지수\n",
       "순위                                                         \n",
       "2   지드래곤     빅뱅       YG  남자  1988-08-18 177.0   A  9916947\n",
       "4      뷔  방탄소년단      빅히트  남자  1995-12-30 178.0  AB  8073501\n",
       "6     정국  방탄소년단      빅히트  남자  1997-09-01 178.0   A  5208335\n",
       "8     소연    아이들       큐브  여자  1998-08-26 157.0   B  4668615\n",
       "10   하성운     핫샷  스타크루이엔티  남자  1994-03-22 167.0   A  4036489"
      ]
     },
     "execution_count": 14,
     "metadata": {},
     "output_type": "execute_result"
    }
   ],
   "source": [
    "# 띄엄띄엄 선택하여 가져오기\n",
    "select = [1,3,5,7,9]\n",
    "data.iloc[select]"
   ]
  },
  {
   "cell_type": "code",
   "execution_count": 15,
   "id": "ff47dde9",
   "metadata": {},
   "outputs": [
    {
     "data": {
      "text/html": [
       "<div>\n",
       "<style scoped>\n",
       "    .dataframe tbody tr th:only-of-type {\n",
       "        vertical-align: middle;\n",
       "    }\n",
       "\n",
       "    .dataframe tbody tr th {\n",
       "        vertical-align: top;\n",
       "    }\n",
       "\n",
       "    .dataframe thead th {\n",
       "        text-align: right;\n",
       "    }\n",
       "</style>\n",
       "<table border=\"1\" class=\"dataframe\">\n",
       "  <thead>\n",
       "    <tr style=\"text-align: right;\">\n",
       "      <th></th>\n",
       "      <th>이름</th>\n",
       "      <th>그룹</th>\n",
       "      <th>소속사</th>\n",
       "      <th>성별</th>\n",
       "      <th>생년월일</th>\n",
       "      <th>키</th>\n",
       "      <th>혈액형</th>\n",
       "      <th>브랜드평판지수</th>\n",
       "    </tr>\n",
       "    <tr>\n",
       "      <th>순위</th>\n",
       "      <th></th>\n",
       "      <th></th>\n",
       "      <th></th>\n",
       "      <th></th>\n",
       "      <th></th>\n",
       "      <th></th>\n",
       "      <th></th>\n",
       "      <th></th>\n",
       "    </tr>\n",
       "  </thead>\n",
       "  <tbody>\n",
       "    <tr>\n",
       "      <th>2</th>\n",
       "      <td>지드래곤</td>\n",
       "      <td>빅뱅</td>\n",
       "      <td>YG</td>\n",
       "      <td>남자</td>\n",
       "      <td>1988-08-18</td>\n",
       "      <td>177.0</td>\n",
       "      <td>A</td>\n",
       "      <td>9916947</td>\n",
       "    </tr>\n",
       "    <tr>\n",
       "      <th>4</th>\n",
       "      <td>뷔</td>\n",
       "      <td>방탄소년단</td>\n",
       "      <td>빅히트</td>\n",
       "      <td>남자</td>\n",
       "      <td>1995-12-30</td>\n",
       "      <td>178.0</td>\n",
       "      <td>AB</td>\n",
       "      <td>8073501</td>\n",
       "    </tr>\n",
       "    <tr>\n",
       "      <th>6</th>\n",
       "      <td>정국</td>\n",
       "      <td>방탄소년단</td>\n",
       "      <td>빅히트</td>\n",
       "      <td>남자</td>\n",
       "      <td>1997-09-01</td>\n",
       "      <td>178.0</td>\n",
       "      <td>A</td>\n",
       "      <td>5208335</td>\n",
       "    </tr>\n",
       "    <tr>\n",
       "      <th>8</th>\n",
       "      <td>소연</td>\n",
       "      <td>아이들</td>\n",
       "      <td>큐브</td>\n",
       "      <td>여자</td>\n",
       "      <td>1998-08-26</td>\n",
       "      <td>157.0</td>\n",
       "      <td>B</td>\n",
       "      <td>4668615</td>\n",
       "    </tr>\n",
       "    <tr>\n",
       "      <th>10</th>\n",
       "      <td>하성운</td>\n",
       "      <td>핫샷</td>\n",
       "      <td>스타크루이엔티</td>\n",
       "      <td>남자</td>\n",
       "      <td>1994-03-22</td>\n",
       "      <td>167.0</td>\n",
       "      <td>A</td>\n",
       "      <td>4036489</td>\n",
       "    </tr>\n",
       "  </tbody>\n",
       "</table>\n",
       "</div>"
      ],
      "text/plain": [
       "      이름     그룹      소속사  성별        생년월일     키 혈액형  브랜드평판지수\n",
       "순위                                                         \n",
       "2   지드래곤     빅뱅       YG  남자  1988-08-18 177.0   A  9916947\n",
       "4      뷔  방탄소년단      빅히트  남자  1995-12-30 178.0  AB  8073501\n",
       "6     정국  방탄소년단      빅히트  남자  1997-09-01 178.0   A  5208335\n",
       "8     소연    아이들       큐브  여자  1998-08-26 157.0   B  4668615\n",
       "10   하성운     핫샷  스타크루이엔티  남자  1994-03-22 167.0   A  4036489"
      ]
     },
     "execution_count": 15,
     "metadata": {},
     "output_type": "execute_result"
    }
   ],
   "source": [
    "data.iloc[[1,3,5,7,9]]"
   ]
  },
  {
   "cell_type": "markdown",
   "id": "3e5f3263",
   "metadata": {},
   "source": [
    "## column & row 선택"
   ]
  },
  {
   "cell_type": "code",
   "execution_count": 16,
   "id": "9f2e136c",
   "metadata": {},
   "outputs": [
    {
     "data": {
      "text/plain": [
       "'뷔'"
      ]
     },
     "execution_count": 16,
     "metadata": {},
     "output_type": "execute_result"
    }
   ],
   "source": [
    "# cloumn 선택 후 iloc 로 행 가져오기\n",
    "data['이름'].iloc[3]"
   ]
  },
  {
   "cell_type": "code",
   "execution_count": 17,
   "id": "409a7509",
   "metadata": {},
   "outputs": [
    {
     "data": {
      "text/plain": [
       "순위\n",
       "4     뷔\n",
       "5    화사\n",
       "6    정국\n",
       "7    민현\n",
       "Name: 이름, dtype: object"
      ]
     },
     "execution_count": 17,
     "metadata": {},
     "output_type": "execute_result"
    }
   ],
   "source": [
    "# column 선택 후 범위로 가져오기\n",
    "data['이름'].iloc[3:7]"
   ]
  },
  {
   "cell_type": "code",
   "execution_count": 18,
   "id": "0e707518",
   "metadata": {},
   "outputs": [
    {
     "data": {
      "text/plain": [
       "순위\n",
       "4       뷔\n",
       "6      정국\n",
       "8      소연\n",
       "9       진\n",
       "10    하성운\n",
       "Name: 이름, dtype: object"
      ]
     },
     "execution_count": 18,
     "metadata": {},
     "output_type": "execute_result"
    }
   ],
   "source": [
    "data['이름'].iloc[[3,5,7,8,9]]"
   ]
  }
 ],
 "metadata": {
  "kernelspec": {
   "display_name": "Python 3",
   "language": "python",
   "name": "python3"
  },
  "language_info": {
   "codemirror_mode": {
    "name": "ipython",
    "version": 3
   },
   "file_extension": ".py",
   "mimetype": "text/x-python",
   "name": "python",
   "nbconvert_exporter": "python",
   "pygments_lexer": "ipython3",
   "version": "3.8.8"
  }
 },
 "nbformat": 4,
 "nbformat_minor": 5
}
